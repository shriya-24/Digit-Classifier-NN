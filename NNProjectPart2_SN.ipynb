{
  "nbformat": 4,
  "nbformat_minor": 0,
  "metadata": {
    "colab": {
      "name": "NNProjectPart2_SN.ipynb",
      "provenance": [],
      "collapsed_sections": []
    },
    "kernelspec": {
      "name": "python3",
      "display_name": "Python 3"
    },
    "language_info": {
      "name": "python"
    }
  },
  "cells": [
    {
      "cell_type": "code",
      "metadata": {
        "colab": {
          "base_uri": "https://localhost:8080/",
          "height": 35
        },
        "id": "aVMJgZYC89VO",
        "outputId": "5be8bce2-c507-4d72-9345-ee96f5bdae22"
      },
      "source": [
        "%tensorflow_version 2.x\n",
        "import tensorflow\n",
        "tensorflow.__version__"
      ],
      "execution_count": 1,
      "outputs": [
        {
          "output_type": "execute_result",
          "data": {
            "application/vnd.google.colaboratory.intrinsic+json": {
              "type": "string"
            },
            "text/plain": [
              "'2.5.0'"
            ]
          },
          "metadata": {
            "tags": []
          },
          "execution_count": 1
        }
      ]
    },
    {
      "cell_type": "code",
      "metadata": {
        "id": "tQiC1ACFbeS7"
      },
      "source": [
        "import h5py\n",
        "import matplotlib.pyplot as plt\n",
        "import numpy as np\n",
        "from tensorflow.keras.layers import Dense, Reshape, BatchNormalization, Dropout\n",
        "from tensorflow.keras.models import Sequential\n",
        "from tensorflow.keras import regularizers, optimizers\n",
        "import math\n",
        "\n",
        "%matplotlib inline"
      ],
      "execution_count": 2,
      "outputs": []
    },
    {
      "cell_type": "code",
      "metadata": {
        "colab": {
          "base_uri": "https://localhost:8080/"
        },
        "id": "dz9s4VsVc56p",
        "outputId": "f7a4a584-4b3a-4e30-8bd6-d250ffd0d0bf"
      },
      "source": [
        "h5f = h5py.File('/content/drive/MyDrive/Colab Notebooks/Part - 4 - Autonomous_Vehicles_SVHN_single_grey1.h5','r')\n",
        "h5f.keys()"
      ],
      "execution_count": 3,
      "outputs": [
        {
          "output_type": "execute_result",
          "data": {
            "text/plain": [
              "<KeysViewHDF5 ['X_test', 'X_train', 'X_val', 'y_test', 'y_train', 'y_val']>"
            ]
          },
          "metadata": {
            "tags": []
          },
          "execution_count": 3
        }
      ]
    },
    {
      "cell_type": "code",
      "metadata": {
        "colab": {
          "base_uri": "https://localhost:8080/"
        },
        "id": "ZUkN21vMg5Gw",
        "outputId": "755cb910-cff9-4539-eba0-3d0a95bbc0bd"
      },
      "source": [
        "# load the already splited train, validation and test data\n",
        "X_train = h5f['X_train'][:]\n",
        "y_train = h5f['y_train'][:]\n",
        "\n",
        "X_val = h5f['X_val'][:]\n",
        "y_val = h5f['y_val'][:]\n",
        "\n",
        "X_test = h5f['X_test'][:]\n",
        "y_test = h5f['y_test'][:]\n",
        "\n",
        "print(f'Size of X_train is {X_train.shape}')\n",
        "print(f'Size of y_train is {y_train.shape}\\n')\n",
        "\n",
        "print(f'Size of X_val is {X_val.shape}')\n",
        "print(f'Size of y_val is {y_val.shape}\\n')\n",
        "\n",
        "print(f'Size of X_test is {X_test.shape}')\n",
        "print(f'Size of y_test is {y_test.shape}')"
      ],
      "execution_count": 4,
      "outputs": [
        {
          "output_type": "stream",
          "text": [
            "Size of X_train is (42000, 32, 32)\n",
            "Size of y_train is (42000,)\n",
            "\n",
            "Size of X_val is (60000, 32, 32)\n",
            "Size of y_val is (60000,)\n",
            "\n",
            "Size of X_test is (18000, 32, 32)\n",
            "Size of y_test is (18000,)\n"
          ],
          "name": "stdout"
        }
      ]
    },
    {
      "cell_type": "markdown",
      "metadata": {
        "id": "MOfEBJaChSxE"
      },
      "source": [
        "The training dataset(X_train) has 42000 records on which we can train upon of matrix size of 32x32 i.e. image size of 32x32.\n",
        "\n",
        "The test dataset(X_test) has 18000 records each record being 32x32 in size.\n",
        "\n",
        "y_train, y_test contain label for the given image matrix."
      ]
    },
    {
      "cell_type": "code",
      "metadata": {
        "colab": {
          "base_uri": "https://localhost:8080/",
          "height": 283
        },
        "id": "7vJ70IKThORW",
        "outputId": "c0dcf2ec-8951-45ba-d03c-634132e2d004"
      },
      "source": [
        "plt.imshow(X_train[1],cmap='gray')\n",
        "print(f'Label for the image is {y_train[1]}')"
      ],
      "execution_count": 5,
      "outputs": [
        {
          "output_type": "stream",
          "text": [
            "Label for the image is 6\n"
          ],
          "name": "stdout"
        },
        {
          "output_type": "display_data",
          "data": {
            "image/png": "[encoded data removed]",
            "text/plain": [
              "<Figure size 432x288 with 1 Axes>"
            ]
          },
          "metadata": {
            "tags": [],
            "needs_background": "light"
          }
        }
      ]
    },
    {
      "cell_type": "code",
      "metadata": {
        "colab": {
          "base_uri": "https://localhost:8080/",
          "height": 283
        },
        "id": "y543C1ZuhiaH",
        "outputId": "ede878d0-560d-4ced-b215-7e10782f2d64"
      },
      "source": [
        "plt.imshow(X_train[2],cmap='gray')\n",
        "print(f'Label for the image is {y_train[2]}')"
      ],
      "execution_count": 6,
      "outputs": [
        {
          "output_type": "stream",
          "text": [
            "Label for the image is 7\n"
          ],
          "name": "stdout"
        },
        {
          "output_type": "display_data",
          "data": {
            "image/png": "[encoded data removed]",
            "text/plain": [
              "<Figure size 432x288 with 1 Axes>"
            ]
          },
          "metadata": {
            "tags": [],
            "needs_background": "light"
          }
        }
      ]
    },
    {
      "cell_type": "code",
      "metadata": {
        "colab": {
          "base_uri": "https://localhost:8080/",
          "height": 246
        },
        "id": "llGB3_EGiMUk",
        "outputId": "b226de00-fad1-4fdd-e3cd-a8689ceaa81b"
      },
      "source": [
        "# visualizing the first 10 images in the dataset and their labels\n",
        "%matplotlib inline\n",
        "import matplotlib.pyplot as plt\n",
        "plt.figure(figsize=(10, 1))\n",
        "for i in range(10):\n",
        "    plt.subplot(1, 10, i+1)\n",
        "    plt.imshow(X_train[i], cmap=\"gray\")\n",
        "    plt.axis('off')\n",
        "    print('label for each of the below image: %s' % ((y_train[i])))\n",
        "plt.show()"
      ],
      "execution_count": 7,
      "outputs": [
        {
          "output_type": "stream",
          "text": [
            "label for each of the below image: 2\n",
            "label for each of the below image: 6\n",
            "label for each of the below image: 7\n",
            "label for each of the below image: 4\n",
            "label for each of the below image: 4\n",
            "label for each of the below image: 0\n",
            "label for each of the below image: 3\n",
            "label for each of the below image: 0\n",
            "label for each of the below image: 7\n",
            "label for each of the below image: 3\n"
          ],
          "name": "stdout"
        },
        {
          "output_type": "display_data",
          "data": {
            "image/png": "[encoded data removed]",
            "text/plain": [
              "<Figure size 720x72 with 10 Axes>"
            ]
          },
          "metadata": {
            "tags": [],
            "needs_background": "light"
          }
        }
      ]
    },
    {
      "cell_type": "markdown",
      "metadata": {
        "id": "OZnNK6LSIPUs"
      },
      "source": [
        "**Reshaping the data**"
      ]
    },
    {
      "cell_type": "code",
      "metadata": {
        "colab": {
          "base_uri": "https://localhost:8080/"
        },
        "id": "l_MS1E-kllrT",
        "outputId": "d2efd738-c2de-4ff5-aebf-5b4ed41e75a8"
      },
      "source": [
        "# reshaping X data: (n, 32, 32) => (n, 1024)\n",
        "X_train = X_train.reshape((X_train.shape[0], -1))\n",
        "X_val = X_val.reshape((X_val.shape[0], -1))\n",
        "X_test = X_test.reshape((X_test.shape[0], -1))\n",
        "\n",
        "print(f'Size of X_train is {X_train.shape}')\n",
        "\n",
        "print(f'Size of X_val is {X_val.shape}')\n",
        "\n",
        "print(f'Size of X_test is {X_test.shape}')"
      ],
      "execution_count": 8,
      "outputs": [
        {
          "output_type": "stream",
          "text": [
            "Size of X_train is (42000, 1024)\n",
            "Size of X_val is (60000, 1024)\n",
            "Size of X_test is (18000, 1024)\n"
          ],
          "name": "stdout"
        }
      ]
    },
    {
      "cell_type": "code",
      "metadata": {
        "colab": {
          "base_uri": "https://localhost:8080/"
        },
        "id": "4H2Ztu9Zmr41",
        "outputId": "48e6c962-6308-4a1a-aa2b-7ea9ac475ee3"
      },
      "source": [
        "print(f'Min value for Train = {X_train.min()}, Validation ={X_val.min()}, Test = {X_test.min()} ')\n",
        "print(f'Max value for Train = {X_train.max()}, Validation ={X_val.max()}, Test = {X_test.max()} ')"
      ],
      "execution_count": 9,
      "outputs": [
        {
          "output_type": "stream",
          "text": [
            "Min value for Train = 0.0, Validation =0.0, Test = 0.0 \n",
            "Max value for Train = 254.97450256347656, Validation =254.97450256347656, Test = 254.97450256347656 \n"
          ],
          "name": "stdout"
        }
      ]
    },
    {
      "cell_type": "markdown",
      "metadata": {
        "id": "hU7jf3pYIVa1"
      },
      "source": [
        "**Normalizing the data**"
      ]
    },
    {
      "cell_type": "code",
      "metadata": {
        "colab": {
          "base_uri": "https://localhost:8080/"
        },
        "id": "2mhJJfI1IAlv",
        "outputId": "225d00fd-a222-4c4b-8c3d-033f87a2bbb3"
      },
      "source": [
        "print('Before Normalization')\n",
        "print(f'Min value is {X_train.min()}')\n",
        "print(f'Max value is {X_train.max()}\\n')\n",
        "maxVal=X_train.max()\n",
        "X_train = X_train/maxVal\n",
        "X_val= X_val/maxVal\n",
        "X_test = X_test/maxVal\n",
        "\n",
        "print('After Normalization')\n",
        "print(f'Min value is {X_train.min()}')\n",
        "print(f'Max value is {X_train.max()}')"
      ],
      "execution_count": 10,
      "outputs": [
        {
          "output_type": "stream",
          "text": [
            "Before Normalization\n",
            "Min value is 0.0\n",
            "Max value is 254.97450256347656\n",
            "\n",
            "After Normalization\n",
            "Min value is 0.0\n",
            "Max value is 1.0\n"
          ],
          "name": "stdout"
        }
      ]
    },
    {
      "cell_type": "markdown",
      "metadata": {
        "id": "LWyuP-JpIcu0"
      },
      "source": [
        "**Converting y data into categorical (one-hot encoding)**"
      ]
    },
    {
      "cell_type": "code",
      "metadata": {
        "colab": {
          "base_uri": "https://localhost:8080/"
        },
        "id": "JTNEBOG2GAU9",
        "outputId": "8b1156b8-13cf-4906-8098-81ec8b5cd7ce"
      },
      "source": [
        "print(f'Sample value before one hot encode {y_train[0]}\\n')"
      ],
      "execution_count": 11,
      "outputs": [
        {
          "output_type": "stream",
          "text": [
            "Sample value before one hot encode 2\n",
            "\n"
          ],
          "name": "stdout"
        }
      ]
    },
    {
      "cell_type": "code",
      "metadata": {
        "colab": {
          "base_uri": "https://localhost:8080/"
        },
        "id": "rQz31OPboVgG",
        "outputId": "b56b2b71-e57a-4a76-8a70-d91e60cf90a5"
      },
      "source": [
        "from tensorflow.keras.utils import to_categorical\n",
        "y_train = to_categorical(y_train)\n",
        "y_val = to_categorical(y_val)\n",
        "y_test = to_categorical(y_test)\n",
        "\n",
        "print(f'Size of y_train is {y_train.shape}\\n')\n",
        "\n",
        "print(f'Size of y_val is {y_val.shape}\\n')\n",
        "\n",
        "print(f'Size of y_test is {y_test.shape}')"
      ],
      "execution_count": 12,
      "outputs": [
        {
          "output_type": "stream",
          "text": [
            "Size of y_train is (42000, 10)\n",
            "\n",
            "Size of y_val is (60000, 10)\n",
            "\n",
            "Size of y_test is (18000, 10)\n"
          ],
          "name": "stdout"
        }
      ]
    },
    {
      "cell_type": "code",
      "metadata": {
        "colab": {
          "base_uri": "https://localhost:8080/"
        },
        "id": "OBSegazJG5ot",
        "outputId": "417210d3-dd0e-4b9c-9d73-4734e5a3b46e"
      },
      "source": [
        "print(f'Sample value after one hot encode {y_train[0]}')"
      ],
      "execution_count": 13,
      "outputs": [
        {
          "output_type": "stream",
          "text": [
            "Sample value after one hot encode [0. 0. 1. 0. 0. 0. 0. 0. 0. 0.]\n"
          ],
          "name": "stdout"
        }
      ]
    },
    {
      "cell_type": "code",
      "metadata": {
        "colab": {
          "base_uri": "https://localhost:8080/",
          "height": 266
        },
        "id": "duHOm-jcHrON",
        "outputId": "6529fb6c-9ec4-432a-ce0c-69f1d9464d24"
      },
      "source": [
        "#cross check if all right\n",
        "plt.figure(figsize=(10,1))\n",
        "for i in range(10):\n",
        "    plt.subplot(1,10,i+1)\n",
        "    plt.imshow(X_train[i].reshape(32,32),cmap='gray')\n",
        "    print(f'Label for image at index {i+1} is {np.argmax(y_train[0:10][i])}')"
      ],
      "execution_count": 14,
      "outputs": [
        {
          "output_type": "stream",
          "text": [
            "Label for image at index 1 is 2\n",
            "Label for image at index 2 is 6\n",
            "Label for image at index 3 is 7\n",
            "Label for image at index 4 is 4\n",
            "Label for image at index 5 is 4\n",
            "Label for image at index 6 is 0\n",
            "Label for image at index 7 is 3\n",
            "Label for image at index 8 is 0\n",
            "Label for image at index 9 is 7\n",
            "Label for image at index 10 is 3\n"
          ],
          "name": "stdout"
        },
        {
          "output_type": "display_data",
          "data": {
            "image/png": "[encoded data removed]",
            "text/plain": [
              "<Figure size 720x72 with 10 Axes>"
            ]
          },
          "metadata": {
            "tags": [],
            "needs_background": "light"
          }
        }
      ]
    },
    {
      "cell_type": "markdown",
      "metadata": {
        "id": "gLm4uhCXLcKT"
      },
      "source": [
        "Basic NN model\n",
        "\n",
        "Naive MLP model without any alterations"
      ]
    },
    {
      "cell_type": "code",
      "metadata": {
        "id": "VW24hchGKTrM"
      },
      "source": [
        "from tensorflow.keras.models import Sequential\n",
        "from tensorflow.keras.layers import Activation, Dense\n",
        "from tensorflow.keras import optimizers"
      ],
      "execution_count": 15,
      "outputs": []
    },
    {
      "cell_type": "code",
      "metadata": {
        "id": "RVLL8wh2Lhwk"
      },
      "source": [
        "model1 = Sequential()\n",
        "model1.add(Dense(50, input_shape = (1024, )))\n",
        "model1.add(Activation('sigmoid'))\n",
        "model1.add(Dense(50))\n",
        "model1.add(Activation('sigmoid'))\n",
        "model1.add(Dense(50))\n",
        "model1.add(Activation('sigmoid'))\n",
        "model1.add(Dense(50))\n",
        "model1.add(Activation('sigmoid'))\n",
        "model1.add(Dense(10))\n",
        "model1.add(Activation('softmax'))"
      ],
      "execution_count": 16,
      "outputs": []
    },
    {
      "cell_type": "code",
      "metadata": {
        "id": "3ZDF3ub9L8AU"
      },
      "source": [
        "sgd = optimizers.SGD(learning_rate = 0.01)\n",
        "model1.compile(optimizer = sgd, loss = 'categorical_crossentropy', metrics = ['accuracy'])"
      ],
      "execution_count": 17,
      "outputs": []
    },
    {
      "cell_type": "code",
      "metadata": {
        "colab": {
          "base_uri": "https://localhost:8080/"
        },
        "id": "Wxq2t8ZbMHhs",
        "outputId": "87bf6b57-bf15-465b-d99d-e700f99d0d73"
      },
      "source": [
        "res1 = model1.fit(X_train, y_train, batch_size = 200, epochs = 100, verbose = 1)"
      ],
      "execution_count": 18,
      "outputs": [
        {
          "output_type": "stream",
          "text": [
            "Epoch 1/100\n",
            "210/210 [==============================] - 2s 4ms/step - loss: 2.3206 - accuracy: 0.0965\n",
            "Epoch 2/100\n",
            "210/210 [==============================] - 1s 4ms/step - loss: 2.3029 - accuracy: 0.0994\n",
            "Epoch 3/100\n",
            "210/210 [==============================] - 1s 4ms/step - loss: 2.3028 - accuracy: 0.0991\n",
            "Epoch 4/100\n",
            "210/210 [==============================] - 1s 4ms/step - loss: 2.3029 - accuracy: 0.0983\n",
            "Epoch 5/100\n",
            "210/210 [==============================] - 1s 4ms/step - loss: 2.3029 - accuracy: 0.0973\n",
            "Epoch 6/100\n",
            "210/210 [==============================] - 1s 4ms/step - loss: 2.3028 - accuracy: 0.0999\n",
            "Epoch 7/100\n",
            "210/210 [==============================] - 1s 4ms/step - loss: 2.3028 - accuracy: 0.0992\n",
            "Epoch 8/100\n",
            "210/210 [==============================] - 1s 4ms/step - loss: 2.3029 - accuracy: 0.0994\n",
            "Epoch 9/100\n",
            "210/210 [==============================] - 1s 4ms/step - loss: 2.3029 - accuracy: 0.0990\n",
            "Epoch 10/100\n",
            "210/210 [==============================] - 1s 4ms/step - loss: 2.3028 - accuracy: 0.0968\n",
            "Epoch 11/100\n",
            "210/210 [==============================] - 1s 4ms/step - loss: 2.3028 - accuracy: 0.0990\n",
            "Epoch 12/100\n",
            "210/210 [==============================] - 1s 4ms/step - loss: 2.3028 - accuracy: 0.0998\n",
            "Epoch 13/100\n",
            "210/210 [==============================] - 1s 4ms/step - loss: 2.3028 - accuracy: 0.1005\n",
            "Epoch 14/100\n",
            "210/210 [==============================] - 1s 4ms/step - loss: 2.3028 - accuracy: 0.1015\n",
            "Epoch 15/100\n",
            "210/210 [==============================] - 1s 4ms/step - loss: 2.3028 - accuracy: 0.0975\n",
            "Epoch 16/100\n",
            "210/210 [==============================] - 1s 4ms/step - loss: 2.3028 - accuracy: 0.0984\n",
            "Epoch 17/100\n",
            "210/210 [==============================] - 1s 4ms/step - loss: 2.3029 - accuracy: 0.1017\n",
            "Epoch 18/100\n",
            "210/210 [==============================] - 1s 4ms/step - loss: 2.3028 - accuracy: 0.0981\n",
            "Epoch 19/100\n",
            "210/210 [==============================] - 1s 4ms/step - loss: 2.3028 - accuracy: 0.0975\n",
            "Epoch 20/100\n",
            "210/210 [==============================] - 1s 4ms/step - loss: 2.3028 - accuracy: 0.0993\n",
            "Epoch 21/100\n",
            "210/210 [==============================] - 1s 4ms/step - loss: 2.3028 - accuracy: 0.0998\n",
            "Epoch 22/100\n",
            "210/210 [==============================] - 1s 4ms/step - loss: 2.3028 - accuracy: 0.0991\n",
            "Epoch 23/100\n",
            "210/210 [==============================] - 1s 4ms/step - loss: 2.3028 - accuracy: 0.0982\n",
            "Epoch 24/100\n",
            "210/210 [==============================] - 1s 4ms/step - loss: 2.3029 - accuracy: 0.1003\n",
            "Epoch 25/100\n",
            "210/210 [==============================] - 1s 4ms/step - loss: 2.3028 - accuracy: 0.1006\n",
            "Epoch 26/100\n",
            "210/210 [==============================] - 1s 4ms/step - loss: 2.3028 - accuracy: 0.1018\n",
            "Epoch 27/100\n",
            "210/210 [==============================] - 1s 4ms/step - loss: 2.3029 - accuracy: 0.0976\n",
            "Epoch 28/100\n",
            "210/210 [==============================] - 1s 4ms/step - loss: 2.3029 - accuracy: 0.1004\n",
            "Epoch 29/100\n",
            "210/210 [==============================] - 1s 4ms/step - loss: 2.3028 - accuracy: 0.0975\n",
            "Epoch 30/100\n",
            "210/210 [==============================] - 1s 4ms/step - loss: 2.3028 - accuracy: 0.1006\n",
            "Epoch 31/100\n",
            "210/210 [==============================] - 1s 4ms/step - loss: 2.3028 - accuracy: 0.0986\n",
            "Epoch 32/100\n",
            "210/210 [==============================] - 1s 4ms/step - loss: 2.3028 - accuracy: 0.1027\n",
            "Epoch 33/100\n",
            "210/210 [==============================] - 1s 4ms/step - loss: 2.3028 - accuracy: 0.0996\n",
            "Epoch 34/100\n",
            "210/210 [==============================] - 1s 4ms/step - loss: 2.3028 - accuracy: 0.1007\n",
            "Epoch 35/100\n",
            "210/210 [==============================] - 1s 4ms/step - loss: 2.3028 - accuracy: 0.0993\n",
            "Epoch 36/100\n",
            "210/210 [==============================] - 1s 4ms/step - loss: 2.3028 - accuracy: 0.1000\n",
            "Epoch 37/100\n",
            "210/210 [==============================] - 1s 4ms/step - loss: 2.3028 - accuracy: 0.0988\n",
            "Epoch 38/100\n",
            "210/210 [==============================] - 1s 4ms/step - loss: 2.3028 - accuracy: 0.0998\n",
            "Epoch 39/100\n",
            "210/210 [==============================] - 1s 4ms/step - loss: 2.3028 - accuracy: 0.0997\n",
            "Epoch 40/100\n",
            "210/210 [==============================] - 1s 4ms/step - loss: 2.3029 - accuracy: 0.1005\n",
            "Epoch 41/100\n",
            "210/210 [==============================] - 1s 4ms/step - loss: 2.3028 - accuracy: 0.0999\n",
            "Epoch 42/100\n",
            "210/210 [==============================] - 1s 4ms/step - loss: 2.3028 - accuracy: 0.0965\n",
            "Epoch 43/100\n",
            "210/210 [==============================] - 1s 4ms/step - loss: 2.3028 - accuracy: 0.1011\n",
            "Epoch 44/100\n",
            "210/210 [==============================] - 1s 4ms/step - loss: 2.3028 - accuracy: 0.0975\n",
            "Epoch 45/100\n",
            "210/210 [==============================] - 1s 4ms/step - loss: 2.3028 - accuracy: 0.0990\n",
            "Epoch 46/100\n",
            "210/210 [==============================] - 1s 4ms/step - loss: 2.3028 - accuracy: 0.1000\n",
            "Epoch 47/100\n",
            "210/210 [==============================] - 1s 4ms/step - loss: 2.3028 - accuracy: 0.0997\n",
            "Epoch 48/100\n",
            "210/210 [==============================] - 1s 4ms/step - loss: 2.3028 - accuracy: 0.1002\n",
            "Epoch 49/100\n",
            "210/210 [==============================] - 1s 4ms/step - loss: 2.3028 - accuracy: 0.1015\n",
            "Epoch 50/100\n",
            "210/210 [==============================] - 1s 4ms/step - loss: 2.3029 - accuracy: 0.0959\n",
            "Epoch 51/100\n",
            "210/210 [==============================] - 1s 4ms/step - loss: 2.3028 - accuracy: 0.0997\n",
            "Epoch 52/100\n",
            "210/210 [==============================] - 1s 4ms/step - loss: 2.3028 - accuracy: 0.1000\n",
            "Epoch 53/100\n",
            "210/210 [==============================] - 1s 4ms/step - loss: 2.3028 - accuracy: 0.1012\n",
            "Epoch 54/100\n",
            "210/210 [==============================] - 1s 4ms/step - loss: 2.3029 - accuracy: 0.0996\n",
            "Epoch 55/100\n",
            "210/210 [==============================] - 1s 4ms/step - loss: 2.3028 - accuracy: 0.0987\n",
            "Epoch 56/100\n",
            "210/210 [==============================] - 1s 4ms/step - loss: 2.3028 - accuracy: 0.0989\n",
            "Epoch 57/100\n",
            "210/210 [==============================] - 1s 4ms/step - loss: 2.3029 - accuracy: 0.0980\n",
            "Epoch 58/100\n",
            "210/210 [==============================] - 1s 4ms/step - loss: 2.3028 - accuracy: 0.0983\n",
            "Epoch 59/100\n",
            "210/210 [==============================] - 1s 4ms/step - loss: 2.3029 - accuracy: 0.0999\n",
            "Epoch 60/100\n",
            "210/210 [==============================] - 1s 4ms/step - loss: 2.3028 - accuracy: 0.0983\n",
            "Epoch 61/100\n",
            "210/210 [==============================] - 1s 4ms/step - loss: 2.3028 - accuracy: 0.0973\n",
            "Epoch 62/100\n",
            "210/210 [==============================] - 1s 4ms/step - loss: 2.3028 - accuracy: 0.0979\n",
            "Epoch 63/100\n",
            "210/210 [==============================] - 1s 4ms/step - loss: 2.3028 - accuracy: 0.0989\n",
            "Epoch 64/100\n",
            "210/210 [==============================] - 1s 4ms/step - loss: 2.3028 - accuracy: 0.1010\n",
            "Epoch 65/100\n",
            "210/210 [==============================] - 1s 4ms/step - loss: 2.3028 - accuracy: 0.1002\n",
            "Epoch 66/100\n",
            "210/210 [==============================] - 1s 4ms/step - loss: 2.3029 - accuracy: 0.0996\n",
            "Epoch 67/100\n",
            "210/210 [==============================] - 1s 4ms/step - loss: 2.3028 - accuracy: 0.0990\n",
            "Epoch 68/100\n",
            "210/210 [==============================] - 1s 4ms/step - loss: 2.3028 - accuracy: 0.0987\n",
            "Epoch 69/100\n",
            "210/210 [==============================] - 1s 4ms/step - loss: 2.3029 - accuracy: 0.0997\n",
            "Epoch 70/100\n",
            "210/210 [==============================] - 1s 4ms/step - loss: 2.3028 - accuracy: 0.1007\n",
            "Epoch 71/100\n",
            "210/210 [==============================] - 1s 4ms/step - loss: 2.3028 - accuracy: 0.1005\n",
            "Epoch 72/100\n",
            "210/210 [==============================] - 1s 4ms/step - loss: 2.3028 - accuracy: 0.1010\n",
            "Epoch 73/100\n",
            "210/210 [==============================] - 1s 4ms/step - loss: 2.3028 - accuracy: 0.1000\n",
            "Epoch 74/100\n",
            "210/210 [==============================] - 1s 4ms/step - loss: 2.3029 - accuracy: 0.1006\n",
            "Epoch 75/100\n",
            "210/210 [==============================] - 1s 4ms/step - loss: 2.3028 - accuracy: 0.1013\n",
            "Epoch 76/100\n",
            "210/210 [==============================] - 1s 4ms/step - loss: 2.3028 - accuracy: 0.1005\n",
            "Epoch 77/100\n",
            "210/210 [==============================] - 1s 4ms/step - loss: 2.3028 - accuracy: 0.0998\n",
            "Epoch 78/100\n",
            "210/210 [==============================] - 1s 4ms/step - loss: 2.3028 - accuracy: 0.0978\n",
            "Epoch 79/100\n",
            "210/210 [==============================] - 1s 4ms/step - loss: 2.3028 - accuracy: 0.0994\n",
            "Epoch 80/100\n",
            "210/210 [==============================] - 1s 4ms/step - loss: 2.3029 - accuracy: 0.0988\n",
            "Epoch 81/100\n",
            "210/210 [==============================] - 1s 4ms/step - loss: 2.3028 - accuracy: 0.0981\n",
            "Epoch 82/100\n",
            "210/210 [==============================] - 1s 4ms/step - loss: 2.3028 - accuracy: 0.0985\n",
            "Epoch 83/100\n",
            "210/210 [==============================] - 1s 4ms/step - loss: 2.3028 - accuracy: 0.0979\n",
            "Epoch 84/100\n",
            "210/210 [==============================] - 1s 4ms/step - loss: 2.3028 - accuracy: 0.1012\n",
            "Epoch 85/100\n",
            "210/210 [==============================] - 1s 4ms/step - loss: 2.3028 - accuracy: 0.1012\n",
            "Epoch 86/100\n",
            "210/210 [==============================] - 1s 4ms/step - loss: 2.3029 - accuracy: 0.0979\n",
            "Epoch 87/100\n",
            "210/210 [==============================] - 1s 4ms/step - loss: 2.3029 - accuracy: 0.0977\n",
            "Epoch 88/100\n",
            "210/210 [==============================] - 1s 4ms/step - loss: 2.3028 - accuracy: 0.1004\n",
            "Epoch 89/100\n",
            "210/210 [==============================] - 1s 4ms/step - loss: 2.3028 - accuracy: 0.0977\n",
            "Epoch 90/100\n",
            "210/210 [==============================] - 1s 4ms/step - loss: 2.3028 - accuracy: 0.1012\n",
            "Epoch 91/100\n",
            "210/210 [==============================] - 1s 4ms/step - loss: 2.3028 - accuracy: 0.0983\n",
            "Epoch 92/100\n",
            "210/210 [==============================] - 1s 4ms/step - loss: 2.3028 - accuracy: 0.1002\n",
            "Epoch 93/100\n",
            "210/210 [==============================] - 1s 4ms/step - loss: 2.3028 - accuracy: 0.0983\n",
            "Epoch 94/100\n",
            "210/210 [==============================] - 1s 4ms/step - loss: 2.3029 - accuracy: 0.0965\n",
            "Epoch 95/100\n",
            "210/210 [==============================] - 1s 4ms/step - loss: 2.3028 - accuracy: 0.0990\n",
            "Epoch 96/100\n",
            "210/210 [==============================] - 1s 4ms/step - loss: 2.3028 - accuracy: 0.0987\n",
            "Epoch 97/100\n",
            "210/210 [==============================] - 1s 4ms/step - loss: 2.3028 - accuracy: 0.0988\n",
            "Epoch 98/100\n",
            "210/210 [==============================] - 1s 4ms/step - loss: 2.3028 - accuracy: 0.0987\n",
            "Epoch 99/100\n",
            "210/210 [==============================] - 1s 4ms/step - loss: 2.3028 - accuracy: 0.1001\n",
            "Epoch 100/100\n",
            "210/210 [==============================] - 1s 4ms/step - loss: 2.3028 - accuracy: 0.1007\n"
          ],
          "name": "stdout"
        }
      ]
    },
    {
      "cell_type": "code",
      "metadata": {
        "colab": {
          "base_uri": "https://localhost:8080/"
        },
        "id": "YcXipASfMm8M",
        "outputId": "99e2c269-a659-44fc-b3a0-86b3ce57883b"
      },
      "source": [
        "results1 = model1.evaluate(X_test, y_test)"
      ],
      "execution_count": 19,
      "outputs": [
        {
          "output_type": "stream",
          "text": [
            "563/563 [==============================] - 1s 1ms/step - loss: 2.3028 - accuracy: 0.0955\n"
          ],
          "name": "stdout"
        }
      ]
    },
    {
      "cell_type": "code",
      "metadata": {
        "colab": {
          "base_uri": "https://localhost:8080/"
        },
        "id": "Vcb5bwV2Mvi1",
        "outputId": "8ffe97f4-f663-41b9-f03d-6a14cb07839c"
      },
      "source": [
        "print('Test accuracy: ', results1[1])"
      ],
      "execution_count": 20,
      "outputs": [
        {
          "output_type": "stream",
          "text": [
            "Test accuracy:  0.09549999982118607\n"
          ],
          "name": "stdout"
        }
      ]
    },
    {
      "cell_type": "markdown",
      "metadata": {
        "id": "Y7Ab33qTNAvr"
      },
      "source": [
        "Model with a flatten layer followed by dense layers with activation as ReLu and softmax. \n",
        "\n",
        "Used Dropout and batch normalization techniques too."
      ]
    },
    {
      "cell_type": "code",
      "metadata": {
        "id": "hB8MM5wtM0TL"
      },
      "source": [
        "def model(iterations, lr, Lambda, verb=0, eval_test=False):\n",
        "    scores=[]\n",
        "    learning_rate=lr\n",
        "    hidden_nodes=256\n",
        "    output_nodes=10\n",
        "    iterations=iterations\n",
        "    # For early stopping of model.\n",
        "    callbacks=tensorflow.keras.callbacks.EarlyStopping(monitor='loss', patience=5)\n",
        "    #model\n",
        "    model = Sequential()\n",
        "    model.add(Dense(500, input_shape=(1024,), activation='relu'))\n",
        "    model.add(BatchNormalization())\n",
        "    model.add(Dense(hidden_nodes,activation='relu'))\n",
        "    model.add(Dense(hidden_nodes,activation='relu'))\n",
        "    model.add(Dropout(0.5))\n",
        "    \n",
        "    model.add(Dense(hidden_nodes,activation='relu'))\n",
        "    model.add(Dense(hidden_nodes,activation='relu'))\n",
        "    model.add(Dropout(0.5))\n",
        "    \n",
        "    model.add(Dense(hidden_nodes,activation='relu'))\n",
        "    model.add(Dense(hidden_nodes,activation='relu'))\n",
        "    model.add(Dense(output_nodes, activation='softmax', kernel_regularizer=regularizers.l2(Lambda)))\n",
        "    # adam optmizer with custom learning rate\n",
        "    adam= optimizers.Adam(lr=learning_rate)\n",
        "    #Compile the model\n",
        "    model.compile(loss='categorical_crossentropy', optimizer=adam, metrics=['accuracy'])\n",
        "    \n",
        "    #Fit the model\n",
        "    model.fit(X_train,y_train, validation_data=(X_val,y_val),epochs=iterations,\n",
        "              batch_size=500, verbose=verb, callbacks=[callbacks])\n",
        "    \n",
        "    model.save(\"model_part2.h5\") #using h5 extension\n",
        "    \n",
        "    if eval_test == True:\n",
        "        score = model.evaluate(X_train,y_train, verbose=0)\n",
        "        scores.append(score)\n",
        "        score = model.evaluate(X_val,y_val, verbose=0)\n",
        "        scores.append(score)\n",
        "        score = model.evaluate(X_test,y_test, verbose=0)\n",
        "        scores.append(score)\n",
        "        return scores\n",
        "    else:\n",
        "        score = model.evaluate(X_val,y_val, verbose=(verb+1)%2)\n",
        "        return score"
      ],
      "execution_count": 32,
      "outputs": []
    },
    {
      "cell_type": "code",
      "metadata": {
        "colab": {
          "base_uri": "https://localhost:8080/"
        },
        "id": "TElG-7RTNOmS",
        "outputId": "dbad7dab-1d02-4e75-e5ce-f66598e31af2"
      },
      "source": [
        "iterations = 1\n",
        "learning_rate=0.0001\n",
        "Lambda=0\n",
        "score=model(iterations, learning_rate, Lambda)\n",
        "print(f'\\nLoss is {score[0]} and Accuracy is {score[1]}')"
      ],
      "execution_count": 22,
      "outputs": [
        {
          "output_type": "stream",
          "text": [
            "/usr/local/lib/python3.7/dist-packages/tensorflow/python/keras/optimizer_v2/optimizer_v2.py:375: UserWarning: The `lr` argument is deprecated, use `learning_rate` instead.\n",
            "  \"The `lr` argument is deprecated, use `learning_rate` instead.\")\n"
          ],
          "name": "stderr"
        },
        {
          "output_type": "stream",
          "text": [
            "1875/1875 [==============================] - 7s 4ms/step - loss: 2.2975 - accuracy: 0.1395\n",
            "\n",
            "Loss is 2.297454595565796 and Accuracy is 0.13948333263397217\n"
          ],
          "name": "stdout"
        }
      ]
    },
    {
      "cell_type": "markdown",
      "metadata": {
        "id": "A5Uvb--jSFBC"
      },
      "source": [
        "Loss is pretty resonable and so is the accuracy which is probability of being a certain digit among 10 classes is 10%(equal for all classes).\n",
        "\n",
        "Loss is here calculated via the softmax and crossentropy which is basically -y.ln(0.10) ."
      ]
    },
    {
      "cell_type": "code",
      "metadata": {
        "colab": {
          "base_uri": "https://localhost:8080/"
        },
        "id": "3Q4N_mbvSB-s",
        "outputId": "67e2356b-a09b-47e7-dd33-70c0710bc448"
      },
      "source": [
        "iterations = 1\n",
        "lr=1e3\n",
        "Lambda=0\n",
        "score=model(iterations, lr, Lambda)\n",
        "print(f'\\nLoss is {score[0]} and Accuracy is {score[1]}')"
      ],
      "execution_count": 23,
      "outputs": [
        {
          "output_type": "stream",
          "text": [
            "/usr/local/lib/python3.7/dist-packages/tensorflow/python/keras/optimizer_v2/optimizer_v2.py:375: UserWarning: The `lr` argument is deprecated, use `learning_rate` instead.\n",
            "  \"The `lr` argument is deprecated, use `learning_rate` instead.\")\n"
          ],
          "name": "stderr"
        },
        {
          "output_type": "stream",
          "text": [
            "1875/1875 [==============================] - 7s 4ms/step - loss: nan - accuracy: 0.1000\n",
            "\n",
            "Loss is nan and Accuracy is 0.10000000149011612\n"
          ],
          "name": "stdout"
        }
      ]
    },
    {
      "cell_type": "markdown",
      "metadata": {
        "id": "dte87aRfSVrB"
      },
      "source": [
        "Loss became too high by increasing learning rate"
      ]
    },
    {
      "cell_type": "code",
      "metadata": {
        "colab": {
          "base_uri": "https://localhost:8080/"
        },
        "id": "wHWj7klnSU_J",
        "outputId": "1b8278b6-9ce3-407f-8e3b-d84c0331c6e9"
      },
      "source": [
        "iterations = 50\n",
        "lr=1e-4\n",
        "Lambda=1e-7\n",
        "score=model(iterations, lr, Lambda)\n",
        "print(f'Loss is {score[0]} and Accuracy is {score[1]}')"
      ],
      "execution_count": 24,
      "outputs": [
        {
          "output_type": "stream",
          "text": [
            "/usr/local/lib/python3.7/dist-packages/tensorflow/python/keras/optimizer_v2/optimizer_v2.py:375: UserWarning: The `lr` argument is deprecated, use `learning_rate` instead.\n",
            "  \"The `lr` argument is deprecated, use `learning_rate` instead.\")\n"
          ],
          "name": "stderr"
        },
        {
          "output_type": "stream",
          "text": [
            "1875/1875 [==============================] - 7s 4ms/step - loss: 0.5159 - accuracy: 0.8423\n",
            "Loss is 0.5159196853637695 and Accuracy is 0.8423333168029785\n"
          ],
          "name": "stdout"
        }
      ]
    },
    {
      "cell_type": "markdown",
      "metadata": {
        "id": "2kTjOGaWUKtD"
      },
      "source": [
        "Got 80% accuracy here"
      ]
    },
    {
      "cell_type": "code",
      "metadata": {
        "colab": {
          "base_uri": "https://localhost:8080/"
        },
        "id": "jkmcOQHPUHH6",
        "outputId": "d48a7d75-549c-498f-afde-88070bced501"
      },
      "source": [
        "iterations = 10\n",
        "lr=2\n",
        "Lambda=1e-2\n",
        "score=model(iterations, lr, Lambda)\n",
        "print(f'Loss is {score[0]} and Accuracy is {score[1]}')"
      ],
      "execution_count": 25,
      "outputs": [
        {
          "output_type": "stream",
          "text": [
            "/usr/local/lib/python3.7/dist-packages/tensorflow/python/keras/optimizer_v2/optimizer_v2.py:375: UserWarning: The `lr` argument is deprecated, use `learning_rate` instead.\n",
            "  \"The `lr` argument is deprecated, use `learning_rate` instead.\")\n"
          ],
          "name": "stderr"
        },
        {
          "output_type": "stream",
          "text": [
            "1875/1875 [==============================] - 7s 4ms/step - loss: 5344.6333 - accuracy: 0.1000\n",
            "Loss is 5344.63330078125 and Accuracy is 0.10000000149011612\n"
          ],
          "name": "stdout"
        }
      ]
    },
    {
      "cell_type": "markdown",
      "metadata": {
        "id": "1isba6eTUjKp"
      },
      "source": [
        "Loss is too high as Learning rate=2 is too high for model."
      ]
    },
    {
      "cell_type": "code",
      "metadata": {
        "colab": {
          "base_uri": "https://localhost:8080/"
        },
        "id": "AP7KTrkIUk-C",
        "outputId": "1540830a-d595-4784-d798-d2ce425905ac"
      },
      "source": [
        "import math\n",
        "results =[]\n",
        "for i in range(10):\n",
        "    lr=math.pow(10, np.random.uniform(-4.0,1.0))\n",
        "    Lambda = math.pow(10, np.random.uniform(-7,-2))\n",
        "    iterations = 30\n",
        "    score=model(iterations, lr, Lambda)\n",
        "    result=f'Loss is {score[0]} and Accuracy is {score[1]} with learing rate {lr} and Lambda {Lambda}\\n'\n",
        "    print(result)\n",
        "    results.append(result)"
      ],
      "execution_count": 26,
      "outputs": [
        {
          "output_type": "stream",
          "text": [
            "/usr/local/lib/python3.7/dist-packages/tensorflow/python/keras/optimizer_v2/optimizer_v2.py:375: UserWarning: The `lr` argument is deprecated, use `learning_rate` instead.\n",
            "  \"The `lr` argument is deprecated, use `learning_rate` instead.\")\n"
          ],
          "name": "stderr"
        },
        {
          "output_type": "stream",
          "text": [
            "1875/1875 [==============================] - 7s 4ms/step - loss: 2.3032 - accuracy: 0.1000\n",
            "Loss is 2.3031857013702393 and Accuracy is 0.10000000149011612 with learing rate 0.033371487087318706 and Lambda 3.3031815129439804e-06\n",
            "\n",
            "1875/1875 [==============================] - 7s 4ms/step - loss: 0.6743 - accuracy: 0.8029\n",
            "Loss is 0.6743419766426086 and Accuracy is 0.8029000163078308 with learing rate 0.0014142215311209623 and Lambda 0.0018823067161540007\n",
            "\n",
            "1875/1875 [==============================] - 8s 4ms/step - loss: 2.3381 - accuracy: 0.1000\n",
            "Loss is 2.3381247520446777 and Accuracy is 0.10000000149011612 with learing rate 0.4120157230640661 and Lambda 1.3789194189993542e-06\n",
            "\n",
            "1875/1875 [==============================] - 7s 4ms/step - loss: 5.4852 - accuracy: 0.1000\n",
            "Loss is 5.4852213859558105 and Accuracy is 0.10000000149011612 with learing rate 0.12475062580837352 and Lambda 0.008962414107541053\n",
            "\n",
            "1875/1875 [==============================] - 7s 4ms/step - loss: 2.9778 - accuracy: 0.1000\n",
            "Loss is 2.97784161567688 and Accuracy is 0.10000000149011612 with learing rate 0.44252602061019775 and Lambda 4.381460871646488e-05\n",
            "\n",
            "1875/1875 [==============================] - 7s 4ms/step - loss: 2.5569 - accuracy: 0.1000\n",
            "Loss is 2.5568833351135254 and Accuracy is 0.10000000149011612 with learing rate 2.982313997223148 and Lambda 1.35874946681199e-07\n",
            "\n",
            "1875/1875 [==============================] - 7s 4ms/step - loss: 4.0967 - accuracy: 0.1000\n",
            "Loss is 4.096706390380859 and Accuracy is 0.10000000149011612 with learing rate 0.15417010967902017 and Lambda 0.0024991143652065007\n",
            "\n",
            "1875/1875 [==============================] - 7s 4ms/step - loss: 0.5486 - accuracy: 0.8329\n",
            "Loss is 0.5486316680908203 and Accuracy is 0.8329333066940308 with learing rate 0.0004899472799391031 and Lambda 1.0158698920643992e-06\n",
            "\n",
            "1875/1875 [==============================] - 7s 4ms/step - loss: 0.6639 - accuracy: 0.7941\n",
            "Loss is 0.6638979911804199 and Accuracy is 0.7940833568572998 with learing rate 0.002849525477267145 and Lambda 2.687160426417346e-06\n",
            "\n",
            "1875/1875 [==============================] - 7s 4ms/step - loss: 2.6091 - accuracy: 0.1000\n",
            "Loss is 2.6090903282165527 and Accuracy is 0.10000000149011612 with learing rate 1.6765100836118125 and Lambda 1.5558182487815623e-06\n",
            "\n"
          ],
          "name": "stdout"
        }
      ]
    },
    {
      "cell_type": "markdown",
      "metadata": {
        "id": "sGAgTnx1_xNA"
      },
      "source": [
        "As we see, we got good results in range\n",
        "\n",
        "*  Learning Rate = \"0.008 to 0.002\"\n",
        "*  Lambda = 1e-3 to 1e-5\n",
        "\n",
        "Thus, now we will narrow down the range even more."
      ]
    },
    {
      "cell_type": "code",
      "metadata": {
        "colab": {
          "base_uri": "https://localhost:8080/"
        },
        "id": "6mWF3sE7UzIC",
        "outputId": "b422af68-5d5e-438b-bfb3-a9eca7fd1d70"
      },
      "source": [
        "import math\n",
        "results =[]\n",
        "for i in range(20):\n",
        "    lr=math.pow(10, np.random.uniform(-4.0,-2.0))\n",
        "    Lambda = math.pow(10, np.random.uniform(-5,-3))\n",
        "    iterations = 50\n",
        "    score=model(iterations, lr, Lambda)\n",
        "    result=f'Loss is {score[0]} and Accuracy is {score[1]} with learing rate {lr} and Lambda {Lambda}\\n'\n",
        "    print(result)\n",
        "    results.append([result,[score[0],score[1],lr,Lambda]])"
      ],
      "execution_count": 27,
      "outputs": [
        {
          "output_type": "stream",
          "text": [
            "/usr/local/lib/python3.7/dist-packages/tensorflow/python/keras/optimizer_v2/optimizer_v2.py:375: UserWarning: The `lr` argument is deprecated, use `learning_rate` instead.\n",
            "  \"The `lr` argument is deprecated, use `learning_rate` instead.\")\n"
          ],
          "name": "stderr"
        },
        {
          "output_type": "stream",
          "text": [
            "1875/1875 [==============================] - 8s 4ms/step - loss: 0.5152 - accuracy: 0.8460\n",
            "Loss is 0.5151678323745728 and Accuracy is 0.8460333347320557 with learing rate 0.00014988269101958503 and Lambda 7.697140904933861e-05\n",
            "\n",
            "1875/1875 [==============================] - 8s 4ms/step - loss: 0.4877 - accuracy: 0.8487\n",
            "Loss is 0.48770657181739807 and Accuracy is 0.848716676235199 with learing rate 0.00016536619045523659 and Lambda 2.3578575155143293e-05\n",
            "\n",
            "1875/1875 [==============================] - 8s 4ms/step - loss: 0.8580 - accuracy: 0.7424\n",
            "Loss is 0.858003556728363 and Accuracy is 0.7424166798591614 with learing rate 0.008101662429729341 and Lambda 0.00017158058584426753\n",
            "\n",
            "1875/1875 [==============================] - 8s 4ms/step - loss: 0.8019 - accuracy: 0.7665\n",
            "Loss is 0.8019396066665649 and Accuracy is 0.7664666771888733 with learing rate 0.006186861571279966 and Lambda 0.0003038218880563168\n",
            "\n",
            "1875/1875 [==============================] - 7s 4ms/step - loss: 0.7389 - accuracy: 0.7758\n",
            "Loss is 0.738852858543396 and Accuracy is 0.775783360004425 with learing rate 0.0036943958152238178 and Lambda 0.0003456228456285588\n",
            "\n",
            "1875/1875 [==============================] - 7s 4ms/step - loss: 0.5478 - accuracy: 0.8359\n",
            "Loss is 0.5478098392486572 and Accuracy is 0.8359166383743286 with learing rate 0.0003807278645010683 and Lambda 0.0009943061005836867\n",
            "\n",
            "1875/1875 [==============================] - 7s 4ms/step - loss: 0.8187 - accuracy: 0.7513\n",
            "Loss is 0.8187043070793152 and Accuracy is 0.7513166666030884 with learing rate 0.00012422133287242978 and Lambda 2.218322881708649e-05\n",
            "\n",
            "1875/1875 [==============================] - 7s 4ms/step - loss: 0.4672 - accuracy: 0.8587\n",
            "Loss is 0.4672301113605499 and Accuracy is 0.8586666584014893 with learing rate 0.00042920238739950234 and Lambda 1.3316389136232934e-05\n",
            "\n",
            "1875/1875 [==============================] - 7s 4ms/step - loss: 1.0317 - accuracy: 0.6517\n",
            "Loss is 1.0316767692565918 and Accuracy is 0.6517333388328552 with learing rate 0.006689816724449629 and Lambda 3.30324574477447e-05\n",
            "\n",
            "1875/1875 [==============================] - 7s 4ms/step - loss: 0.4693 - accuracy: 0.8576\n",
            "Loss is 0.4693170487880707 and Accuracy is 0.8576499819755554 with learing rate 0.00016248310343922544 and Lambda 0.00011407439729176968\n",
            "\n",
            "1875/1875 [==============================] - 8s 4ms/step - loss: 0.4724 - accuracy: 0.8595\n",
            "Loss is 0.47242897748947144 and Accuracy is 0.859499990940094 with learing rate 0.0016067825630644258 and Lambda 0.00030801329920291255\n",
            "\n",
            "1875/1875 [==============================] - 7s 4ms/step - loss: 0.5175 - accuracy: 0.8421\n",
            "Loss is 0.5174795985221863 and Accuracy is 0.84211665391922 with learing rate 0.0007968611199515849 and Lambda 0.0006465229665791403\n",
            "\n",
            "1875/1875 [==============================] - 7s 4ms/step - loss: 0.4163 - accuracy: 0.8739\n",
            "Loss is 0.4162890911102295 and Accuracy is 0.8738833069801331 with learing rate 0.00046198154154172046 and Lambda 0.0004912807724126731\n",
            "\n",
            "1875/1875 [==============================] - 7s 4ms/step - loss: 0.5146 - accuracy: 0.8454\n",
            "Loss is 0.5146355628967285 and Accuracy is 0.8454166650772095 with learing rate 0.00031077273243085854 and Lambda 8.123028673867413e-05\n",
            "\n",
            "1875/1875 [==============================] - 7s 4ms/step - loss: 0.7319 - accuracy: 0.7878\n",
            "Loss is 0.7319182753562927 and Accuracy is 0.7878333330154419 with learing rate 0.0044917835530840725 and Lambda 0.0003271126333204323\n",
            "\n",
            "1875/1875 [==============================] - 7s 4ms/step - loss: 0.5531 - accuracy: 0.8328\n",
            "Loss is 0.553141713142395 and Accuracy is 0.8327666521072388 with learing rate 0.0004414511472272912 and Lambda 2.119079316465009e-05\n",
            "\n",
            "1875/1875 [==============================] - 7s 3ms/step - loss: 0.4656 - accuracy: 0.8633\n",
            "Loss is 0.4656450152397156 and Accuracy is 0.8632500171661377 with learing rate 0.000210275937326357 and Lambda 0.0008579891227423368\n",
            "\n",
            "1875/1875 [==============================] - 7s 4ms/step - loss: 0.9116 - accuracy: 0.7397\n",
            "Loss is 0.9115746021270752 and Accuracy is 0.7397333383560181 with learing rate 0.0014010356622698795 and Lambda 0.00034669497255003723\n",
            "\n",
            "1875/1875 [==============================] - 7s 4ms/step - loss: 0.4975 - accuracy: 0.8546\n",
            "Loss is 0.49750757217407227 and Accuracy is 0.8545833230018616 with learing rate 0.0014907065992565047 and Lambda 0.0002288994592958817\n",
            "\n",
            "1875/1875 [==============================] - 8s 4ms/step - loss: 0.4080 - accuracy: 0.8801\n",
            "Loss is 0.407978355884552 and Accuracy is 0.880050003528595 with learing rate 0.0006596189432743647 and Lambda 0.0007730854429022888\n",
            "\n"
          ],
          "name": "stdout"
        }
      ]
    },
    {
      "cell_type": "markdown",
      "metadata": {
        "id": "0GfMTeu9Ala4"
      },
      "source": [
        "AS we saw, the Loss is 0.407978355884552 and Accuracy is 0.880050003528595 with learing rate 0.0006596189432743647 and Lambda 0.0007730854429022888\n",
        "\n",
        "So, now we will use these values of LR and lambda\n"
      ]
    },
    {
      "cell_type": "code",
      "metadata": {
        "id": "nE6pOGjnLf4z"
      },
      "source": [
        "def model_new(iterations, lr, Lambda, verb=0, eval_test=False):\n",
        "    scores=[]\n",
        "    learning_rate=lr\n",
        "    hidden_nodes=256\n",
        "    output_nodes=10\n",
        "    iterations=iterations\n",
        "    # For early stopping of model.\n",
        "    callbacks=tensorflow.keras.callbacks.EarlyStopping(monitor='loss', patience=5)\n",
        "    #model\n",
        "    model = Sequential()\n",
        "    model.add(Dense(500, input_shape=(1024,), activation='relu'))\n",
        "    model.add(BatchNormalization())\n",
        "    model.add(Dense(hidden_nodes,activation='relu'))\n",
        "    model.add(Dense(hidden_nodes,activation='relu'))\n",
        "    model.add(Dropout(0.5))\n",
        "    \n",
        "    model.add(Dense(hidden_nodes,activation='relu'))\n",
        "    model.add(Dense(hidden_nodes,activation='relu'))\n",
        "    model.add(Dropout(0.5))\n",
        "    \n",
        "    model.add(Dense(hidden_nodes,activation='relu'))\n",
        "    model.add(Dense(hidden_nodes,activation='relu'))\n",
        "    model.add(Dense(output_nodes, activation='softmax', kernel_regularizer=regularizers.l2(Lambda)))\n",
        "    # adam optmizer with custom learning rate\n",
        "    adam= optimizers.Adam(lr=learning_rate)\n",
        "    #Compile the model\n",
        "    model.compile(loss='categorical_crossentropy', optimizer=adam, metrics=['accuracy'])\n",
        "    \n",
        "    #Fit the model\n",
        "    history = model.fit(X_train,y_train, validation_data=(X_val,y_val),epochs=iterations,\n",
        "              batch_size=500, verbose=verb, callbacks=[callbacks])\n",
        "    \n",
        "    model.save(\"model_part2.h5\") #using h5 extension\n",
        "\n",
        "    # list all data in history\n",
        "    print(history.history.keys())\n",
        "    # summarize history for accuracy\n",
        "    plt.plot(history.history['accuracy'])\n",
        "    plt.plot(history.history['val_accuracy'])\n",
        "    plt.title('model accuracy')\n",
        "    plt.ylabel('accuracy')\n",
        "    plt.xlabel('epoch')\n",
        "    plt.legend(['train', 'test'], loc='upper left')\n",
        "    plt.show()\n",
        "    # summarize history for loss\n",
        "    plt.plot(history.history['loss'])\n",
        "    plt.plot(history.history['val_loss'])\n",
        "    plt.title('model loss')\n",
        "    plt.ylabel('loss')\n",
        "    plt.xlabel('epoch')\n",
        "    plt.legend(['train', 'test'], loc='upper left')\n",
        "    plt.show()\n",
        "    \n",
        "    if eval_test == True:\n",
        "        score = model.evaluate(X_train,y_train, verbose=0)\n",
        "        scores.append(score)\n",
        "        score = model.evaluate(X_val,y_val, verbose=0)\n",
        "        scores.append(score)\n",
        "        score = model.evaluate(X_test,y_test, verbose=0)\n",
        "        scores.append(score)\n",
        "        return scores\n",
        "    else:\n",
        "        score = model.evaluate(X_val,y_val, verbose=(verb+1)%2)\n",
        "        return score"
      ],
      "execution_count": 44,
      "outputs": []
    },
    {
      "cell_type": "code",
      "metadata": {
        "colab": {
          "base_uri": "https://localhost:8080/",
          "height": 643
        },
        "id": "PzRZjrlCcrY7",
        "outputId": "9967e7f7-7985-422a-ad38-47e65fefa162"
      },
      "source": [
        "lr= 0.00066\n",
        "Lambda= 0.00077\n",
        "iterations = 100 #Since we have used early stopping so it will halt \n",
        "eval_test= True\n",
        "scores = model_new(iterations, lr, Lambda,verb=0, eval_test=True)"
      ],
      "execution_count": 45,
      "outputs": [
        {
          "output_type": "stream",
          "text": [
            "/usr/local/lib/python3.7/dist-packages/tensorflow/python/keras/optimizer_v2/optimizer_v2.py:375: UserWarning: The `lr` argument is deprecated, use `learning_rate` instead.\n",
            "  \"The `lr` argument is deprecated, use `learning_rate` instead.\")\n"
          ],
          "name": "stderr"
        },
        {
          "output_type": "stream",
          "text": [
            "dict_keys(['loss', 'accuracy', 'val_loss', 'val_accuracy'])\n"
          ],
          "name": "stdout"
        },
        {
          "output_type": "display_data",
          "data": {
            "image/png": "[encoded data removed]",
            "text/plain": [
              "<Figure size 432x288 with 1 Axes>"
            ]
          },
          "metadata": {
            "tags": [],
            "needs_background": "light"
          }
        },
        {
          "output_type": "display_data",
          "data": {
            "image/png": "[encoded data removed]",
            "text/plain": [
              "<Figure size 432x288 with 1 Axes>"
            ]
          },
          "metadata": {
            "tags": [],
            "needs_background": "light"
          }
        }
      ]
    },
    {
      "cell_type": "code",
      "metadata": {
        "colab": {
          "base_uri": "https://localhost:8080/"
        },
        "id": "JVOHuHL6cv3l",
        "outputId": "d6b7e187-ef26-488c-dd88-1beea8b4931f"
      },
      "source": [
        "print(f'Training Dataset Loss is {scores[0][0]} Accuracy is {scores[0][1]}\\n')\n",
        "print(f'Validation Dataset Loss is {scores[1][0]} Accuracy is {scores[1][1]}\\n')\n",
        "print(f'Test Dataset Loss is {scores[2][0]} Accuracy is {scores[2][1]}\\n')"
      ],
      "execution_count": 46,
      "outputs": [
        {
          "output_type": "stream",
          "text": [
            "Training Dataset Loss is 0.292623370885849 Accuracy is 0.9084047675132751\n",
            "\n",
            "Validation Dataset Loss is 0.41390523314476013 Accuracy is 0.8847000002861023\n",
            "\n",
            "Test Dataset Loss is 0.6968947052955627 Accuracy is 0.8293889164924622\n",
            "\n"
          ],
          "name": "stdout"
        }
      ]
    },
    {
      "cell_type": "markdown",
      "metadata": {
        "id": "dN7DQmxCY3ec"
      },
      "source": [
        "**Observations**\n",
        "* 1. From the plot of accuracy we can see that the model could probably be trained a little more as the trend for accuracy on both datasets is still rising for the last few epochs.\n",
        "* 2. We can also see that the model has a bit over-learned the training dataset, showing almost comparable value on both datasets.\n",
        "* 3. From the plot of loss, we can see that the model has comparable performance on both train and validation datasets (labeled test). \n",
        "* 4. If these parallel plots start to depart consistently, it might be a sign to stop training at an earlier epoch."
      ]
    }
  ]
}